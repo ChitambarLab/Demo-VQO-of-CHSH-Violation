{
 "cells": [
  {
   "attachments": {},
   "cell_type": "markdown",
   "id": "51492137",
   "metadata": {},
   "source": [
    "# Variational Quantum Optimization (VQO) of CHSH Violation\n",
    "\n",
    "This notebook demonstrates how quantum machine learning can be applied to train a quantum circuit to violate the Bell inequality.\n",
    "\n",
    "<div>\n",
    "<img src=\"img/chsh-scenario.png\" width=\"200\"/>\n",
    "</div>\n",
    " \n",
    "* $x,y\\in\\{0,1\\}$ and $a,b\\in\\{-1,1\\}$.\n",
    "* Local qubit measurements $\\Pi_a^x$ and $\\Pi_b^y$ are projective.\n",
    "* State preparation $\\Phi^{AB}$ is a static, bipartite quantum state.\n",
    "\n",
    "$$\n",
    "I_{CHSH} = \\sum_{x,y\\in\\{0,1\\}} (-1)^{x\\wedge y}\\langle A_xB_y\\rangle\\leq 2\n",
    "$$\n",
    "\n",
    "**Goal:** Find state preparation and measurements that maximally violate the CHSH inequality."
   ]
  },
  {
   "cell_type": "markdown",
   "id": "f6c6ac83",
   "metadata": {},
   "source": [
    "## Requirements\n",
    "\n",
    "This code requires the `pennylane` and `matplotlib` python libraries."
   ]
  },
  {
   "cell_type": "code",
   "execution_count": 1,
   "id": "ba7b1f51",
   "metadata": {},
   "outputs": [],
   "source": [
    "# quantum machine learning framework\n",
    "import pennylane as qml\n",
    "\n",
    "# numpy extension for pennylane\n",
    "from pennylane import numpy as np\n",
    "\n",
    "# plotting utility\n",
    "import matplotlib.pyplot as plt"
   ]
  },
  {
   "attachments": {},
   "cell_type": "markdown",
   "id": "12cb2980",
   "metadata": {},
   "source": [
    "## CHSH Ansatz\n",
    "\n",
    "We consider a simple ansatz circuit $U_{CHSH}^{AB}(\\vec{\\theta})$ for the CHSH scenario.\n",
    "\n",
    "<div>\n",
    "<img src=\"img\\chsh_ansatz.png\" width=\"300\"/>\n",
    "</div>\n",
    "\n",
    "* **State Preparation:** local qubit rotations about the $y$-axis followed by a CNOT gate. Can prepare any pure state in the Bell basis or omputational basis.\n",
    "* **Measurement:** The computational basis is rotated about the $y$-axis allowing any projective measurement in the $x$-$z$-plane to be realized.\n",
    " \n",
    "$$\n",
    "\\begin{align}\n",
    "    U^{AB}_{CHSH}(\\vec{\\theta})|00\\rangle^{AB} &= \\left(R^A_y(\\theta_2)\\otimes R^B_y(\\theta_3)\\right)U^{AB}_{CNOT}\\left(R^A_y(\\theta_0)\\otimes R^B_y(\\theta_1)\\right)|00\\rangle^{AB} \\\\\n",
    "    &= \\left(R^A_y(\\theta_2)\\otimes R^B_y(\\theta_3)\\right)|\\psi(\\theta_0,\\theta_1)\\rangle^{AB} \\\\\n",
    "    &= |\\psi_{CHSH}(\\vec{\\theta})\\rangle^{AB}\\\\\n",
    "\\end{align}\n",
    "$$\n",
    "\n",
    "\n",
    "This ansatz parameterizes real-valued states and measurements, but is sufficient to find nonlocal behaviors.\n"
   ]
  },
  {
   "cell_type": "code",
   "execution_count": 2,
   "id": "4f8b1a05",
   "metadata": {},
   "outputs": [],
   "source": [
    "def chsh_ansatz(settings, wires):\n",
    "    # state prepartion\n",
    "    qml.RY(settings[0], wires=wires[0])\n",
    "    qml.RY(settings[1], wires=wires[1])\n",
    "    qml.CNOT(wires=wires[0:2])\n",
    "    \n",
    "    # measurement basis rotations\n",
    "    qml.RY(settings[2], wires=wires[0])\n",
    "    qml.RY(settings[3], wires=wires[1])"
   ]
  },
  {
   "cell_type": "markdown",
   "id": "4949a025",
   "metadata": {},
   "source": [
    "## Ansatz Parameterization\n",
    "\n",
    "The CHSH scenario has a static state preparation and two inputs, $x,y \\in \\{0,1\\}$ that select local measurement bases.\n",
    "\n",
    "We organize our settings into preparation and measurement settings:\n",
    "\n",
    "$$\n",
    "\\vec{\\theta} = (\\{\\theta\\}^P, \\{\\theta\\}^M) = \\left([\\theta_0,\\theta_1], \\begin{bmatrix}\n",
    "    \\theta_2^{x=0} & \\theta_2^{x=1} \\\\ \\theta_3^{x=0} & \\theta_3^{x=1}\n",
    "\\end{bmatrix}\\right)\n",
    "$$\n",
    "\n",
    "while $\\vec{\\theta}_{x,y} = [\\theta_0, \\theta_1, \\theta^x_2, \\theta^y_3]$.\n",
    "We now write a function create randomized initial parameters."
   ]
  },
  {
   "cell_type": "code",
   "execution_count": 3,
   "id": "21e3306b",
   "metadata": {},
   "outputs": [
    {
     "data": {
      "text/plain": [
       "[tensor([0.37895832, 0.00818022], requires_grad=True),\n",
       " tensor([[0.14476653, 0.61528113],\n",
       "         [0.4289039 , 0.1094481 ]], requires_grad=True)]"
      ]
     },
     "execution_count": 3,
     "metadata": {},
     "output_type": "execute_result"
    }
   ],
   "source": [
    "def random_scenario_settings():\n",
    "    preparation_settings = np.random.random(2)\n",
    "    measurement_settings = np.random.random((2,2))\n",
    "    \n",
    "    return [preparation_settings, measurement_settings]\n",
    "\n",
    "random_scenario_settings()"
   ]
  },
  {
   "cell_type": "markdown",
   "id": "2c158d36",
   "metadata": {},
   "source": [
    "## PennyLane Devices\n",
    "\n",
    "PennyLane uses a `Device` class to model quantum hardware.\n",
    "* Devices can be either a classical simulator or quantum hardware.\n",
    "* Devices can run locally on your laptop or executed remotely by a third party.\n",
    "\n",
    "For this demo, we use the default state-vector simulator. \n",
    "We only need two qubits (`wires`).\n",
    "This device will numerically evaluate the quantum circuit expectations rather than constructing a distribution through sampling."
   ]
  },
  {
   "cell_type": "code",
   "execution_count": 4,
   "id": "442db6ce",
   "metadata": {},
   "outputs": [],
   "source": [
    "chsh_dev = qml.device(\"default.qubit\", wires=[0,1])"
   ]
  },
  {
   "cell_type": "markdown",
   "id": "e4b9f842",
   "metadata": {},
   "source": [
    "## PennyLane QNodes\n",
    "\n",
    "A quantum node (`QNode`) class describes a quantum circuit run by a particular device.\n",
    "The `QNode` is a differentiable function with customizeable optimizer interfaces and gradient methods.\n",
    "A qnode\n",
    "\n",
    "The `@qml.qnode` decorator specifies that the `chsh_dev` device is used to execute the `chsh_correlator` function.\n",
    "\n",
    "The CHSH correlator extends our ansatz with a joint observable expectation\n",
    "\n",
    "$$\n",
    "\\begin{align}\n",
    "    \\langle A_xB_y\\rangle(\\vec{\\theta}_{x,y}) &= \\langle\\psi(\\theta_0,\\theta_1)|A_x(\\theta_2)B_y(\\theta_3)|\\psi(\\theta_0,\\theta_1)\\rangle\\\\\n",
    "        &= \\sum_{i,j\\in\\{0,1\\}}(-1)^{i\\oplus j}\\left|\\langle ij|R^A_y(\\theta_2)\\otimes R^B_y(\\theta_3)|\\psi(\\theta_0,\\theta_1)\\rangle^{AB}\\right|^2 \\\\\n",
    "        &= \\sum_{i,j\\in\\{0,1\\}}(-1)^{i\\oplus j}\\left|\\langle ij|U^{AB}_{CHSH}(\\vec{\\theta}_{x,y})|00\\rangle^{AB}\\right|^2 \\\\\n",
    "\\end{align}\n",
    "$$\n",
    "\n",
    "Here $|ij\\rangle$ is the computational basis. The labels $x$ and $y$ on the observables correspond to different parameter vectors $\\vec{\\theta}_{x,y}$ "
   ]
  },
  {
   "cell_type": "code",
   "execution_count": 5,
   "id": "bb17c58a",
   "metadata": {},
   "outputs": [],
   "source": [
    "@qml.qnode(chsh_dev)\n",
    "def chsh_correlator(settings): \n",
    "    wires = chsh_dev.wires\n",
    "    chsh_ansatz(settings, wires)\n",
    "    \n",
    "    # computational basis measurement\n",
    "    return qml.expval(\n",
    "        qml.PauliZ(wires[0]) @ qml.PauliZ(wires[1])\n",
    "    )"
   ]
  },
  {
   "cell_type": "markdown",
   "id": "4ee3c9df",
   "metadata": {},
   "source": [
    "### Drawing the Ansatz Circuit"
   ]
  },
  {
   "cell_type": "code",
   "execution_count": 6,
   "id": "441b482d",
   "metadata": {},
   "outputs": [
    {
     "name": "stdout",
     "output_type": "stream",
     "text": [
      " 0: ──RY(0)──╭C──RY(0)──╭┤ ⟨Z ⊗ Z⟩ \n",
      " 1: ──RY(0)──╰X──RY(0)──╰┤ ⟨Z ⊗ Z⟩ \n",
      "\n"
     ]
    }
   ],
   "source": [
    "chsh_correlator([0,0,0,0])\n",
    "print(chsh_correlator.draw())"
   ]
  },
  {
   "cell_type": "markdown",
   "id": "be140d09",
   "metadata": {},
   "source": [
    "### Evaluating a QNode"
   ]
  },
  {
   "cell_type": "code",
   "execution_count": 7,
   "id": "3983a75d",
   "metadata": {},
   "outputs": [
    {
     "name": "stdout",
     "output_type": "stream",
     "text": [
      "00 prep and ZZ meas :  1.0\n"
     ]
    }
   ],
   "source": [
    "print(\"00 prep and ZZ meas : \", chsh_correlator([0,0,0,0]))"
   ]
  },
  {
   "cell_type": "code",
   "execution_count": 8,
   "id": "9a636435",
   "metadata": {},
   "outputs": [
    {
     "name": "stdout",
     "output_type": "stream",
     "text": [
      "01 prep and ZZ meas :  -1.0\n"
     ]
    }
   ],
   "source": [
    "print(\"01 prep and ZZ meas : \", chsh_correlator([0,np.pi,0,0]))"
   ]
  },
  {
   "cell_type": "code",
   "execution_count": 9,
   "id": "8dd2c44d",
   "metadata": {},
   "outputs": [
    {
     "name": "stdout",
     "output_type": "stream",
     "text": [
      "00 prep and XX meas :  0.0\n"
     ]
    }
   ],
   "source": [
    "print(\"00 prep and XX meas : \", chsh_correlator([0,0,-np.pi/2,-np.pi/2]))"
   ]
  },
  {
   "cell_type": "code",
   "execution_count": 10,
   "id": "c1eec657",
   "metadata": {},
   "outputs": [
    {
     "name": "stdout",
     "output_type": "stream",
     "text": [
      "bell prep and ZZ meas :  1.0\n"
     ]
    }
   ],
   "source": [
    "print(\"bell prep and ZZ meas : \", chsh_correlator([np.pi/2,0,0,0]))"
   ]
  },
  {
   "cell_type": "code",
   "execution_count": 11,
   "id": "38648c00",
   "metadata": {},
   "outputs": [
    {
     "name": "stdout",
     "output_type": "stream",
     "text": [
      "bell prep and XX meas :  0.9999999999999998\n"
     ]
    }
   ],
   "source": [
    "print(\"bell prep and XX meas : \", chsh_correlator([np.pi/2,0,-np.pi/2,-np.pi/2]))"
   ]
  },
  {
   "cell_type": "code",
   "execution_count": 12,
   "id": "11d8d992",
   "metadata": {},
   "outputs": [
    {
     "name": "stdout",
     "output_type": "stream",
     "text": [
      "bell prep and ZX meas :  2.220446049250313e-16\n"
     ]
    }
   ],
   "source": [
    "print(\"bell prep and ZX meas : \", chsh_correlator([np.pi/2,0,0,-np.pi/2]))"
   ]
  },
  {
   "cell_type": "markdown",
   "id": "554dfa92",
   "metadata": {},
   "source": [
    "## The CHSH Cost Function\n",
    "\n",
    "The CHSH inequality is expressed as:\n",
    "\n",
    "$$\n",
    "I_{CHSH}(\\vec{\\theta}) = \\sum_{x,y\\in\\{0,1\\}} (-1)^{x\\wedge y}\\langle A_xB_y\\rangle(\\vec{\\theta}_{x,y})\n",
    "$$\n",
    "\n",
    "The corresponding cost function is expressed as:\n",
    "\n",
    "\n",
    "$$\n",
    "\\text{Cost}(\\vec{\\theta}) = - I_{CHSH}(\\vec{\\theta})\n",
    "$$\n",
    "\n"
   ]
  },
  {
   "cell_type": "code",
   "execution_count": 13,
   "id": "f1d55ffb",
   "metadata": {},
   "outputs": [],
   "source": [
    "def chsh_cost(scenario_settings):\n",
    "\n",
    "    score = 0\n",
    "    for x, y in [[0,0],[0,1],[1,0],[1,1]]:\n",
    "        # construct the settings for inputs `x` and `y`\n",
    "        qnode_settings = [\n",
    "            *scenario_settings[0],\n",
    "            scenario_settings[1][0,x],\n",
    "            scenario_settings[1][1,y]\n",
    "        ]\n",
    "        \n",
    "        # evaluate the `chsh_correlator` qnode\n",
    "        score += (-1)**(x * y) * chsh_correlator(qnode_settings)\n",
    "        \n",
    "    # invert score because cost is minimized\n",
    "    return -(score)"
   ]
  },
  {
   "cell_type": "markdown",
   "id": "ebe36781",
   "metadata": {},
   "source": [
    "## Gradient Descent\n",
    "\n",
    "Our goal is to find $\\arg\\min_{\\vec{\\theta}} \\text{Cost}(\\vec{\\theta})$ using automatic differentiation and gradient descent.\n",
    "This minimization problem is equivalent to maximizing the CHSH violation.\n",
    "\n",
    "$$\n",
    "\\begin{align}\n",
    "    \\vec{\\theta}' &= \\vec{\\theta} - \\eta\\nabla_{\\vec{\\theta}}\\text{Cost}(\\vec{\\theta}) \\\\\n",
    "    &= \\vec{\\theta} + \\eta\\nabla_{\\vec{\\theta}}I_{CHSH}(\\vec{\\theta}) \n",
    "\\end{align}\n",
    "$$\n",
    "\n",
    "PennyLane handles the automatic differentiation of the `chsh_correlator` QNode.\n",
    "We add a loop that iteratively computes the gradient and updates the settings. \n",
    "Each step in this training procedure is called an epoch."
   ]
  },
  {
   "cell_type": "code",
   "execution_count": 14,
   "id": "a2f99450",
   "metadata": {},
   "outputs": [],
   "source": [
    "def gradient_descent(cost, settings, step_size=0.1, num_steps=20):\n",
    "    # optimizer work horse\n",
    "    opt = qml.GradientDescentOptimizer(stepsize=step_size)\n",
    "        \n",
    "    scores = []\n",
    "    settings_list = []  \n",
    "    for i in range(num_steps):\n",
    "        # log data\n",
    "        score = -(cost(settings))       \n",
    "        scores.append(score)\n",
    "        settings_list.append(settings)\n",
    "                \n",
    "        # print progress\n",
    "        if i % 5 == 0:\n",
    "            print(\"iteration : \", i, \", score : \", score)\n",
    "        \n",
    "        # update settings using gradient evaluated at `settings`\n",
    "        settings = opt.step(cost, settings)\n",
    "    \n",
    "    # log data for final score and settings\n",
    "    final_score = -(cost(settings))\n",
    "    scores.append(final_score)\n",
    "    settings_list.append(settings)\n",
    "    \n",
    "    # find the maximum value and optimal settings\n",
    "    max_score = max(scores)\n",
    "    max_id = scores.index(max_score)\n",
    "    opt_settings = settings_list[max_id]\n",
    "                \n",
    "    return {\n",
    "        \"max_score\" : max_score,\n",
    "        \"opt_settings\" : opt_settings,\n",
    "        \"max_id\" : max_id,\n",
    "        \"samples\" : range(num_steps + 1),\n",
    "        \"scores\" : scores,\n",
    "        \"settings\" : settings_list\n",
    "    }"
   ]
  },
  {
   "cell_type": "markdown",
   "id": "4c2cc7c0",
   "metadata": {},
   "source": [
    "## VQO of a Maximally Nonlocal CHSH Protocol"
   ]
  },
  {
   "cell_type": "code",
   "execution_count": 15,
   "id": "9bb009dd",
   "metadata": {},
   "outputs": [
    {
     "name": "stdout",
     "output_type": "stream",
     "text": [
      "initial settings :\n",
      " [tensor([0.96123244, 0.55235034], requires_grad=True), tensor([[0.37514297, 0.50044924],\n",
      "        [0.29133242, 0.46641267]], requires_grad=True)] \n",
      "\n",
      "iteration :  0 , score :  1.5088222141327297\n",
      "iteration :  5 , score :  2.010436716885594\n",
      "iteration :  10 , score :  2.5808417015638088\n",
      "iteration :  15 , score :  2.8284193404598703\n",
      "\n",
      "max score :  2.828427124707118\n",
      "optimal settings :  [array([ 1.57079231e+00, -1.06968197e-06]), array([[ 0.71599797, -0.85479238],\n",
      "       [-0.06939297,  1.50139766]])] \n",
      "\n",
      "theoretical max :  2.8284271247461903 \n",
      "\n",
      "CPU times: user 436 ms, sys: 21.8 ms, total: 458 ms\n",
      "Wall time: 448 ms\n"
     ]
    }
   ],
   "source": [
    "%%time\n",
    "\n",
    "# initialize random parameters\n",
    "init_settings = random_scenario_settings()\n",
    "print(\"initial settings :\\n\", init_settings, \"\\n\")\n",
    "\n",
    "opt_dict = gradient_descent(chsh_cost, init_settings, step_size=0.5);\n",
    "\n",
    "print(\"\\nmax score : \", opt_dict[\"max_score\"])\n",
    "print(\"optimal settings : \", opt_dict[\"opt_settings\"], \"\\n\")\n",
    "print(\"theoretical max : \", 2 * np.sqrt(2), \"\\n\")"
   ]
  },
  {
   "cell_type": "code",
   "execution_count": 16,
   "id": "a28dc3dc",
   "metadata": {},
   "outputs": [
    {
     "data": {
      "image/png": "[encoded data removed]",
      "text/plain": [
       "<Figure size 432x288 with 1 Axes>"
      ]
     },
     "metadata": {
      "needs_background": "light"
     },
     "output_type": "display_data"
    }
   ],
   "source": [
    "plt.plot(opt_dict[\"samples\"], opt_dict[\"scores\"], \"o--\", label=\"Optimization\")\n",
    "plt.plot(opt_dict[\"samples\"], [2]*len(opt_dict[\"samples\"]), label=\"Classical Bound\")\n",
    "plt.plot(opt_dict[\"samples\"], [2*np.sqrt(2)]*len(opt_dict[\"samples\"]), label=\"Quantum Bound\")\n",
    "\n",
    "plt.title(\"Optimization of CHSH Violation\\n\")\n",
    "plt.ylabel(\"CHSH Score\")\n",
    "plt.xlabel(\"Epoch\")\n",
    "plt.legend()\n",
    "\n",
    "plt.show()"
   ]
  },
  {
   "cell_type": "code",
   "execution_count": null,
   "id": "8ce586e6",
   "metadata": {},
   "outputs": [],
   "source": []
  }
 ],
 "metadata": {
  "@webio": {
   "lastCommId": null,
   "lastKernelId": null
  },
  "kernelspec": {
   "display_name": "Python 3 (ipykernel)",
   "language": "python",
   "name": "python3"
  },
  "language_info": {
   "codemirror_mode": {
    "name": "ipython",
    "version": 3
   },
   "file_extension": ".py",
   "mimetype": "text/x-python",
   "name": "python",
   "nbconvert_exporter": "python",
   "pygments_lexer": "ipython3",
   "version": "3.8.11"
  }
 },
 "nbformat": 4,
 "nbformat_minor": 5
}
